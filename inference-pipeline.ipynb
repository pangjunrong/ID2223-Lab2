{
 "cells": [
  {
   "cell_type": "code",
   "execution_count": 49,
   "metadata": {},
   "outputs": [
    {
     "name": "stdout",
     "output_type": "stream",
     "text": [
      "Requirement already satisfied: pyktok in ./env/lib/python3.9/site-packages (0.0.18)\n",
      "\u001b[33mWARNING: You are using pip version 20.2.3; however, version 23.3.1 is available.\n",
      "You should consider upgrading via the '/Users/jayden/Documents/Resources/Y4S1-KTH/ID2223/Labs/Lab-2/env/bin/python3 -m pip install --upgrade pip' command.\u001b[0m\n",
      "Collecting audio2numpy\n",
      "  Downloading audio2numpy-0.1.2-py3-none-any.whl (10 kB)\n",
      "Collecting ffmpeg\n",
      "  Downloading ffmpeg-1.4.tar.gz (5.1 kB)\n",
      "Requirement already satisfied: numpy in ./env/lib/python3.9/site-packages (from audio2numpy) (1.26.2)\n",
      "Using legacy 'setup.py install' for ffmpeg, since package 'wheel' is not installed.\n",
      "Installing collected packages: ffmpeg, audio2numpy\n",
      "    Running setup.py install for ffmpeg ... \u001b[?25ldone\n",
      "\u001b[?25hSuccessfully installed audio2numpy-0.1.2 ffmpeg-1.4\n",
      "\u001b[33mWARNING: You are using pip version 20.2.3; however, version 23.3.1 is available.\n",
      "You should consider upgrading via the '/Users/jayden/Documents/Resources/Y4S1-KTH/ID2223/Labs/Lab-2/env/bin/python3 -m pip install --upgrade pip' command.\u001b[0m\n"
     ]
    }
   ],
   "source": [
    "!pip install pyktok"
   ]
  },
  {
   "cell_type": "code",
   "execution_count": null,
   "metadata": {},
   "outputs": [
    {
     "name": "stderr",
     "output_type": "stream",
     "text": [
      "Special tokens have been added in the vocabulary, make sure the associated word embeddings are fine-tuned or trained.\n",
      "Special tokens have been added in the vocabulary, make sure the associated word embeddings are fine-tuned or trained.\n"
     ]
    },
    {
     "name": "stdout",
     "output_type": "stream",
     "text": [
      "Running on local URL:  http://127.0.0.1:7872\n",
      "\n",
      "To create a public link, set `share=True` in `launch()`.\n"
     ]
    },
    {
     "data": {
      "text/html": [
       "<div><iframe src=\"http://127.0.0.1:7872/\" width=\"100%\" height=\"500\" allow=\"autoplay; camera; microphone; clipboard-read; clipboard-write;\" frameborder=\"0\" allowfullscreen></iframe></div>"
      ],
      "text/plain": [
       "<IPython.core.display.HTML object>"
      ]
     },
     "metadata": {},
     "output_type": "display_data"
    },
    {
     "data": {
      "text/plain": []
     },
     "execution_count": 63,
     "metadata": {},
     "output_type": "execute_result"
    },
    {
     "name": "stdout",
     "output_type": "stream",
     "text": [
      "Saved video\n",
      " https://v16-webapp-prime.tiktok.com/video/tos/useast2a/tos-useast2a-ve-0068c004/oEHHe9goHEPABSH5ydCfUHJSPGtCjIg8QePN2X/?a=1988&ch=0&cr=3&dr=0&lr=tiktok_m&cd=0%7C0%7C1%7C3&cv=1&br=2538&bt=1269&bti=ODszNWYuMDE6&cs=0&ds=3&ft=_RwJrB8Uq8ZmoDdKQQ_vjhPDfAhLrus&mime_type=video_mp4&qs=0&rc=PGk5ODQ0ZjpoNWVpNmZmOEBpam13dTw6ZmpzaDMzNzczM0BjYS5gY14vX2AxYWIwXmEwYSNjX3NycjRnMS5gLS1kMTZzcw%3D%3D&btag=e00088000&expire=1701889775&l=202312061309120989F29FE287FC0E4FDA&ply_type=2&policy=2&signature=f5621446889389d8372bdbb5ebd04eb3&tk=tt_chain_token \n",
      "to\n",
      " /Users/jayden/Documents/Resources/Y4S1-KTH/ID2223/Labs/Lab-2\n",
      "Saved metadata for video\n",
      " https://www.tiktok.com/@svenskamedanastasia/video/7170736029102591238?q=svenska&t=1701867819429 \n",
      "to\n",
      " /Users/jayden/Documents/Resources/Y4S1-KTH/ID2223/Labs/Lab-2\n",
      "MoviePy - Writing audio in target_audio.wav\n"
     ]
    },
    {
     "name": "stderr",
     "output_type": "stream",
     "text": [
      "                                                                    \r"
     ]
    },
    {
     "name": "stdout",
     "output_type": "stream",
     "text": [
      "MoviePy - Done.\n"
     ]
    }
   ],
   "source": [
    "import os\n",
    "from transformers import pipeline\n",
    "import gradio as gr\n",
    "import pyktok as pyk\n",
    "import moviepy.editor as mpy\n",
    "\n",
    "pipe = pipeline(model=\"jaydxn1/whisper-small-sv\")  # change to \"your-username/the-name-you-picked\"\n",
    "\n",
    "def transcribe(audio):\n",
    "    text = pipe(audio)[\"text\"]\n",
    "    return text\n",
    "\n",
    "def video_transcribe(url):\n",
    "    pyk.save_tiktok(url, True, 'chrome')\n",
    "    for f in os.listdir():\n",
    "        if f.endswith('.mp4'):\n",
    "            video = mpy.VideoFileClip(f)\n",
    "            video.audio.write_audiofile('target_audio.wav')\n",
    "            os.remove(f)\n",
    "    text = pipe('target_audio.wav')[\"text\"]\n",
    "    return text\n",
    "\n",
    "iface1 = gr.Interface(\n",
    "    fn=transcribe,\n",
    "    inputs=gr.Audio(sources=\"microphone\", type=\"filepath\"),\n",
    "    outputs=\"text\",\n",
    "    title=\"Whisper Small Swedish\",\n",
    "    description=\"Realtime demo for Swedish speech recognition using a fine-tuned Whisper small model.\",\n",
    ")\n",
    "\n",
    "iface2 = gr.Interface(\n",
    "    fn=video_transcribe,\n",
    "    inputs=gr.Text(),\n",
    "    outputs=\"text\",\n",
    "    title=\"Transcribe TikTok Video\",\n",
    "    description=\"You can transcribe any Swedish TikTok videos by simply pasting the URL on the left.\"\n",
    ")\n",
    "\n",
    "gr.TabbedInterface(\n",
    "    [iface1, iface2], [\"Microphone\", \"TikTok\"]\n",
    ").launch()"
   ]
  }
 ],
 "metadata": {
  "kernelspec": {
   "display_name": "base",
   "language": "python",
   "name": "python3"
  },
  "language_info": {
   "codemirror_mode": {
    "name": "ipython",
    "version": 3
   },
   "file_extension": ".py",
   "mimetype": "text/x-python",
   "name": "python",
   "nbconvert_exporter": "python",
   "pygments_lexer": "ipython3",
   "version": "3.9.1"
  }
 },
 "nbformat": 4,
 "nbformat_minor": 2
}
